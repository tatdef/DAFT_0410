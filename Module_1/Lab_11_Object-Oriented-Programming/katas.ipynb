{
 "cells": [
  {
   "cell_type": "markdown",
   "id": "711da268",
   "metadata": {},
   "source": [
    "## Object-oriented programming - lab 11"
   ]
  },
  {
   "cell_type": "code",
   "execution_count": 1,
   "id": "8b3bafad",
   "metadata": {},
   "outputs": [],
   "source": [
    "# Remove All The Marked Elements of a List \n",
    "\n",
    "class List():\n",
    "    def remove_(self, integer_list, values_list):\n",
    "        result_list=[]\n",
    "        for i in integer_list:\n",
    "            if i not in values_list:\n",
    "                result_list.append(i)\n",
    "        return result_list"
   ]
  },
  {
   "cell_type": "code",
   "execution_count": 68,
   "id": "370f7303",
   "metadata": {},
   "outputs": [],
   "source": [
    "# Counting Total Occurence Of Specific Digits\n",
    "#it's ugly but it works :) \n",
    "\n",
    "class List(object):\n",
    "    def count_spec_digits(self, integers_list, digits_list):\n",
    "        import operator as op\n",
    "        dict1={}\n",
    "        for n in range(len(integers_list)):\n",
    "            integers_list[n]=str(integers_list[n])\n",
    "        for m in range(len(digits_list)):\n",
    "            digits_list[m]=str(digits_list[m])\n",
    "        for i in digits_list:\n",
    "            dict1[int(i)]=op.countOf(''.join(integers_list),i)\n",
    "        list1=[]\n",
    "        for item in dict1.items():\n",
    "            list1.append(item)\n",
    "        return list1"
   ]
  },
  {
   "cell_type": "code",
   "execution_count": 70,
   "id": "9710daba",
   "metadata": {},
   "outputs": [
    {
     "data": {
      "text/plain": [
       "[(1, 3), (3, 2)]"
      ]
     },
     "execution_count": 70,
     "metadata": {},
     "output_type": "execute_result"
    }
   ],
   "source": [
    "l = List()\n",
    "\n",
    "integers_list =  [1, 1, 2 ,3 ,1 ,2 ,3 ,4]\n",
    "digits_list = [1, 3]\n",
    "\n",
    "l. count_spec_digits(integers_list, digits_list)"
   ]
  },
  {
   "cell_type": "code",
   "execution_count": 72,
   "id": "430d5f8d",
   "metadata": {},
   "outputs": [
    {
     "data": {
      "text/plain": [
       "[(1, 7), (8, 5), (4, 0)]"
      ]
     },
     "execution_count": 72,
     "metadata": {},
     "output_type": "execute_result"
    }
   ],
   "source": [
    "l=List()\n",
    "integers_list = [-18, -31, 81, -19, 111, -888]\n",
    "digits_list = [1, 8, 4]\n",
    "l.count_spec_digits(integers_list, digits_list)"
   ]
  },
  {
   "cell_type": "code",
   "execution_count": null,
   "id": "c612bb0f",
   "metadata": {},
   "outputs": [],
   "source": [
    "# Ordered Count of Characters\n",
    "\n",
    "def ordered_count(inp):\n",
    "    dict1={}\n",
    "    for i in inp:\n",
    "        if i in dict1:\n",
    "            dict1[i]+=1\n",
    "        else:\n",
    "            dict1[i]=1\n",
    "    list1=[]\n",
    "    for item in dict1.items():\n",
    "        list1.append(item)\n",
    "    return list1"
   ]
  }
 ],
 "metadata": {
  "kernelspec": {
   "display_name": "Python 3 (ipykernel)",
   "language": "python",
   "name": "python3"
  },
  "language_info": {
   "codemirror_mode": {
    "name": "ipython",
    "version": 3
   },
   "file_extension": ".py",
   "mimetype": "text/x-python",
   "name": "python",
   "nbconvert_exporter": "python",
   "pygments_lexer": "ipython3",
   "version": "3.9.16"
  }
 },
 "nbformat": 4,
 "nbformat_minor": 5
}
