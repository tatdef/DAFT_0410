{
 "cells": [
  {
   "cell_type": "code",
   "execution_count": 1,
   "id": "39a805c9",
   "metadata": {},
   "outputs": [],
   "source": [
    "# Counting sheep \n",
    "\n",
    "def count_sheeps(sheep):\n",
    "    result=0 #total_sheep\n",
    "    for i in sheep:\n",
    "        if i == True:\n",
    "            result +=1\n",
    "    return result"
   ]
  },
  {
   "cell_type": "code",
   "execution_count": 2,
   "id": "67c4ba55",
   "metadata": {},
   "outputs": [],
   "source": [
    "# removing one element out of two from a list \n",
    "\n",
    "def remove_every_other(my_list):\n",
    "    my_list_2=[]\n",
    "    for i in range(len(my_list)):\n",
    "        if i==0:\n",
    "            my_list_2.append(my_list[i])\n",
    "        elif i%2 == 0 :\n",
    "            my_list_2.append(my_list[i])\n",
    "    return my_list_2 "
   ]
  },
  {
   "cell_type": "code",
   "execution_count": 3,
   "id": "09c3a4ec",
   "metadata": {},
   "outputs": [],
   "source": [
    "#return a reverse array of digits as a list \n",
    "\n",
    "def digitize(n):\n",
    "    n=str(n)\n",
    "    n=n[::-1]\n",
    "    list=[]\n",
    "    for i in n:\n",
    "        list.append(int(i))\n",
    "    return list"
   ]
  },
  {
   "cell_type": "code",
   "execution_count": 27,
   "id": "3e50cb5a",
   "metadata": {},
   "outputs": [],
   "source": [
    "def square_digits(num):\n",
    "    num=str(num)\n",
    "    list1=[]\n",
    "    for i in num:\n",
    "        list1.append(str((int(i))**2))\n",
    "    result=int(''.join(list1))\n",
    "    return result"
   ]
  },
  {
   "cell_type": "code",
   "execution_count": 28,
   "id": "cb7b9ad1",
   "metadata": {},
   "outputs": [
    {
     "data": {
      "text/plain": [
       "811181"
      ]
     },
     "execution_count": 28,
     "metadata": {},
     "output_type": "execute_result"
    }
   ],
   "source": [
    "square_digits(9119)"
   ]
  },
  {
   "cell_type": "markdown",
   "id": "83e752ab",
   "metadata": {},
   "source": [
    "[Last kata to prepare](https://www.codewars.com/kata/56311e4fdd811616810000ce)"
   ]
  },
  {
   "cell_type": "markdown",
   "id": "711da268",
   "metadata": {},
   "source": [
    "## Object-oriented programming"
   ]
  },
  {
   "cell_type": "code",
   "execution_count": 29,
   "id": "8b3bafad",
   "metadata": {},
   "outputs": [],
   "source": [
    "# Remove All The Marked Elements of a List \n",
    "\n",
    "class List():\n",
    "    def remove_(self, integer_list, values_list):\n",
    "        result_list=[]\n",
    "        for i in integer_list:\n",
    "            if i not in values_list:\n",
    "                result_list.append(i)\n",
    "        return result_list"
   ]
  }
 ],
 "metadata": {
  "kernelspec": {
   "display_name": "Python 3 (ipykernel)",
   "language": "python",
   "name": "python3"
  },
  "language_info": {
   "codemirror_mode": {
    "name": "ipython",
    "version": 3
   },
   "file_extension": ".py",
   "mimetype": "text/x-python",
   "name": "python",
   "nbconvert_exporter": "python",
   "pygments_lexer": "ipython3",
   "version": "3.9.16"
  }
 },
 "nbformat": 4,
 "nbformat_minor": 5
}
