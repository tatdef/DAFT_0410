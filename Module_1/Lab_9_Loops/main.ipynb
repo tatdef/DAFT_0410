{
 "cells": [
  {
   "cell_type": "markdown",
   "metadata": {},
   "source": [
    "# Loops\n",
    "\n",
    "Complete the following set of exercises to solidify your knowledge for Loops."
   ]
  },
  {
   "cell_type": "markdown",
   "metadata": {},
   "source": [
    "#### 1. Print first 10 natural numbers using while loop"
   ]
  },
  {
   "cell_type": "code",
   "execution_count": 1,
   "metadata": {},
   "outputs": [
    {
     "name": "stdout",
     "output_type": "stream",
     "text": [
      "0\n",
      "1\n",
      "2\n",
      "3\n",
      "4\n",
      "5\n",
      "6\n",
      "7\n",
      "8\n",
      "9\n"
     ]
    }
   ],
   "source": [
    "i=0\n",
    "while i<10:\n",
    "    print(i)\n",
    "    i+=1"
   ]
  },
  {
   "cell_type": "markdown",
   "metadata": {},
   "source": [
    "#### 2. Display numbers from a list using loop\n",
    "Write a program to display only those numbers from a list that satisfy the following conditions\n",
    "\n",
    "The number must be divisible by five\n",
    "\n",
    "If the number is greater than 150, then skip it and move to the next number\n",
    "\n",
    "If the number is greater than 500, then stop the loop\n",
    "\n",
    "numbers = [12, 75, 150, 180, 145, 525, 50]"
   ]
  },
  {
   "cell_type": "code",
   "execution_count": 3,
   "metadata": {},
   "outputs": [
    {
     "name": "stdout",
     "output_type": "stream",
     "text": [
      "75\n",
      "150\n",
      "145\n"
     ]
    }
   ],
   "source": [
    "numbers = [12, 75, 150, 180, 145, 525, 50]\n",
    "for i in numbers:\n",
    "    if i%5==0:\n",
    "        if i>500:\n",
    "            break\n",
    "        elif i>150:\n",
    "            continue\n",
    "        else:\n",
    "            print(i)\n",
    "    else:\n",
    "        continue    "
   ]
  },
  {
   "cell_type": "markdown",
   "metadata": {},
   "source": [
    "#### 3.Write a Python program to check the validity of a password (input from users).\n",
    "\n",
    "Validation :\n",
    "\n",
    "At least 1 letter between [a-z] and 1 letter between [A-Z].\n",
    "\n",
    "At least 1 number between [0-9].\n",
    "\n",
    "At least 1 character from [$#@].\n",
    "\n",
    "Minimum length 6 characters.\n",
    "\n",
    "Maximum length 16 characters."
   ]
  },
  {
   "cell_type": "code",
   "execution_count": 53,
   "metadata": {},
   "outputs": [],
   "source": [
    "def pwd():\n",
    "    password=input(\"Please enter your password:\")\n",
    "    import re\n",
    "    if not re.findall('[A-Z]',password):\n",
    "        print(\"You need to include a capital letter in your password\")\n",
    "    else:\n",
    "        if not re.findall('[a-z]',password):\n",
    "            print(\"You need to include a lowercase letter in your password\")\n",
    "        else :\n",
    "            if not re.findall('[0-9]',password):\n",
    "                print(\"You need to include a number in your password\")\n",
    "            else :\n",
    "                if not re.findall('[$@#]',password):\n",
    "                    print(\"You need to include one of these special characters ($ @ #) in your password\")\n",
    "                else: \n",
    "                    if len(password)<6 or len(password)>16:\n",
    "                        print(\"Your password should have between 6 and 16 characters\")\n",
    "                    else:\n",
    "                        print(\"Your password is valid\")"
   ]
  },
  {
   "cell_type": "code",
   "execution_count": 59,
   "metadata": {},
   "outputs": [
    {
     "name": "stdout",
     "output_type": "stream",
     "text": [
      "Please enter your password:1hB$\n",
      "Your password should have between 6 and 16 characters\n"
     ]
    }
   ],
   "source": [
    "pwd()"
   ]
  },
  {
   "cell_type": "markdown",
   "metadata": {},
   "source": [
    "#### 4. Break the loop when x is 6, and see what happens with the else block"
   ]
  },
  {
   "cell_type": "code",
   "execution_count": 5,
   "metadata": {},
   "outputs": [
    {
     "name": "stdout",
     "output_type": "stream",
     "text": [
      "0\n",
      "1\n",
      "2\n",
      "3\n",
      "4\n",
      "5\n"
     ]
    }
   ],
   "source": [
    "x=0\n",
    "\n",
    "while x<10:\n",
    "    print(x)\n",
    "    x+=1\n",
    "    if x==6:\n",
    "        break\n",
    "    else:\n",
    "        continue\n",
    "#Once we have used \"break\", we can't do anything else in the loop"
   ]
  },
  {
   "cell_type": "code",
   "execution_count": 6,
   "metadata": {},
   "outputs": [
    {
     "name": "stdout",
     "output_type": "stream",
     "text": [
      "0\n",
      "1\n",
      "2\n",
      "3\n",
      "4\n",
      "5\n"
     ]
    }
   ],
   "source": [
    "x=0\n",
    "\n",
    "while x<10:\n",
    "    if x==6:\n",
    "        break\n",
    "    else:\n",
    "        print(x)\n",
    "        x+=1"
   ]
  },
  {
   "cell_type": "markdown",
   "metadata": {},
   "source": [
    "#### 5. Write a Python program to calculate the sum and average of n integer numbers (input from the user). Input 0 to finish."
   ]
  },
  {
   "cell_type": "code",
   "execution_count": 19,
   "metadata": {},
   "outputs": [],
   "source": [
    "def saa():\n",
    "    import statistics as stats\n",
    "    list1=[]\n",
    "    x=int(input(\"please enter an integer:\"))\n",
    "    while x!=0:\n",
    "        list1.append(x)\n",
    "        x=int(input(\"please enter another integer or type 0 to exit:\"))\n",
    "    else:\n",
    "        return print(\"The sum of the numbers you have chose is: \", sum(list1), \"and their average is:\", stats.mean(list1))"
   ]
  },
  {
   "cell_type": "code",
   "execution_count": 20,
   "metadata": {},
   "outputs": [
    {
     "name": "stdout",
     "output_type": "stream",
     "text": [
      "please enter an integer:1\n",
      "please enter another integer or type 0 to exit:2\n",
      "please enter another integer or type 0 to exit:3\n",
      "please enter another integer or type 0 to exit:4\n",
      "please enter another integer or type 0 to exit:0\n",
      "The sum of the numbers you have chose is:  10 and their average is: 2.5\n"
     ]
    }
   ],
   "source": [
    "saa()"
   ]
  }
 ],
 "metadata": {
  "kernelspec": {
   "display_name": "Python 3 (ipykernel)",
   "language": "python",
   "name": "python3"
  },
  "language_info": {
   "codemirror_mode": {
    "name": "ipython",
    "version": 3
   },
   "file_extension": ".py",
   "mimetype": "text/x-python",
   "name": "python",
   "nbconvert_exporter": "python",
   "pygments_lexer": "ipython3",
   "version": "3.9.16"
  }
 },
 "nbformat": 4,
 "nbformat_minor": 2
}
