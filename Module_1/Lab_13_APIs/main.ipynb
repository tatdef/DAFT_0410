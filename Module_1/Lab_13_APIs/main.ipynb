{
 "cells": [
  {
   "cell_type": "markdown",
   "metadata": {},
   "source": [
    "# Lab 13 on APIs"
   ]
  },
  {
   "cell_type": "markdown",
   "metadata": {},
   "source": [
    "## Challenge 1: Get a Picture"
   ]
  },
  {
   "cell_type": "code",
   "execution_count": 1,
   "metadata": {},
   "outputs": [],
   "source": [
    "import requests"
   ]
  },
  {
   "cell_type": "code",
   "execution_count": 2,
   "metadata": {},
   "outputs": [
    {
     "data": {
      "text/plain": [
       "<Response [200]>"
      ]
     },
     "execution_count": 2,
     "metadata": {},
     "output_type": "execute_result"
    }
   ],
   "source": [
    "response = requests.get('https://xkcd.com')\n",
    "response"
   ]
  },
  {
   "cell_type": "code",
   "execution_count": 3,
   "metadata": {},
   "outputs": [
    {
     "data": {
      "text/plain": [
       "{'Connection': 'keep-alive', 'Content-Length': '2945', 'Server': 'nginx', 'Content-Type': 'text/html; charset=UTF-8', 'Last-Modified': 'Sat, 22 Apr 2023 12:07:59 GMT', 'ETag': 'W/\"6443ce1f-1d51\"', 'Expires': 'Sat, 22 Apr 2023 12:14:04 GMT', 'Cache-Control': 'max-age=300', 'Content-Encoding': 'gzip', 'Via': '1.1 varnish, 1.1 varnish', 'Accept-Ranges': 'bytes', 'Date': 'Sun, 23 Apr 2023 15:04:10 GMT', 'Age': '111', 'X-Served-By': 'cache-dfw-kdfw8210090-DFW, cache-par-lfpg1960042-PAR', 'X-Cache': 'HIT, HIT', 'X-Cache-Hits': '21, 1', 'X-Timer': 'S1682262251.685714,VS0,VE1', 'Vary': 'Accept-Encoding'}"
      ]
     },
     "execution_count": 3,
     "metadata": {},
     "output_type": "execute_result"
    }
   ],
   "source": [
    "# check the headers\n",
    "response.headers"
   ]
  },
  {
   "cell_type": "code",
   "execution_count": 4,
   "metadata": {},
   "outputs": [
    {
     "data": {
      "text/plain": [
       "'Sat, 22 Apr 2023 12:14:04 GMT'"
      ]
     },
     "execution_count": 4,
     "metadata": {},
     "output_type": "execute_result"
    }
   ],
   "source": [
    "#check the headers \"Expires\" value\n",
    "response.headers['expires']"
   ]
  },
  {
   "cell_type": "code",
   "execution_count": 5,
   "metadata": {},
   "outputs": [
    {
     "name": "stdout",
     "output_type": "stream",
     "text": [
      "['<html', '<head', '<link', '<title', '<meta', '<link', '<link', '<link', '<link', '<script', '<script', '<meta', '<meta', '<meta', '<meta', '<meta', '<body', '<div', '<div', '<ul', '<li', '<a', '<li', '<a', '<li', '<a', '<li', '<a', '<a', '<li', '<a', '<a', '<a', '<li', '<a', '<li', '<a', '<li', '<a', '<a', '<a', '<div', '<div', '<span', '<a', '<img', '<span', '<br', '<div', '<div', '<div', '<a', '<img', '<span', '<div', '<div', '<div', '<div', '<ul', '<li', '<a', '<li', '<a', '<li', '<a', '<li', '<a', '<li', '<a', '<div', '<img', '<ul', '<li', '<a', '<li', '<a', '<li', '<a', '<li', '<a', '<li', '<a', '<br', '<a', '<br', '<a', '<div', '<div', '<img', '<map', '<area', '<area', '<area', '<area', '<area', '<br', '<a', '<img', '<br', '<div', '<script', '<script', '<form', '<div', '<input', '<input', '<input', '<input', '<script', '<a', '<a', '<a', '<br', '<div', '<br', '<a', '<a', '<a', '<a', '<a', '<a', '<a', '<a', '<a', '<a', '<a', '<br', '<div', '<br', '<a', '<br', '<a', '<a', '<br', '<center', '<div', '<br', '<br', '<div', '<p', '<a', '<p', '<a']\n"
     ]
    }
   ],
   "source": [
    "#Provide all HTML codes\n",
    "import re\n",
    "pattern='[<][\\w]+'\n",
    "list=re.findall(pattern, response.text)\n",
    "print(list)"
   ]
  },
  {
   "cell_type": "code",
   "execution_count": 6,
   "metadata": {},
   "outputs": [
    {
     "data": {
      "text/plain": [
       "b'<!DOCTYPE html>\\n<html>\\n<head>\\n<link rel=\"stylesheet\" type=\"text/css\" href=\"/s/7d94e0.css\" title=\"Default\"/>\\n<title>xkcd: Helium Reserve</title>\\n<meta http-equiv=\"X-UA-Compatible\" content=\"IE=edge\"/>\\n<link rel=\"shortcut icon\" href=\"/s/919f27.ico\" type=\"image/x-icon\"/>\\n<link rel=\"icon\" href=\"/s/919f27.ico\" type=\"image/x-icon\"/>\\n<link rel=\"alternate\" type=\"application/atom+xml\" title=\"Atom 1.0\" href=\"/atom.xml\"/>\\n<link rel=\"alternate\" type=\"application/rss+xml\" title=\"RSS 2.0\" href=\"/rss.xml\"/>\\n<!-- <script type=\"text/javascript\" src=\"/s/b66ed7.js\" async></script>\\n<script type=\"text/javascript\" src=\"/s/1b9456.js\" async></script> -->\\n\\n<meta property=\"og:site_name\" content=\"xkcd\">\\n\\n<meta property=\"og:title\" content=\"Helium Reserve\">\\n<meta property=\"og:url\" content=\"https://xkcd.com/2766/\">\\n<meta property=\"og:image\" content=\"https://imgs.xkcd.com/comics/helium_reserve_2x.png\">\\n<meta name=\"twitter:card\" content=\"summary_large_image\">\\n\\n</head>\\n<body>\\n<div id=\"topContainer\">\\n<div id=\"topLeft\">\\n<ul>\\n<li><a href=\"/archive\">Archive</a></li>\\n<li><a href=\"https://what-if.xkcd.com\">What If?</a></li>\\n<li><a rel=\"author\" href=\"/about\">About</a></li>\\n<li><a href=\"/atom.xml\">Feed</a>&bull;<a href=\"/newsletter/\">Email</a></li>\\n<li><a href=\"https://twitter.com/xkcd/\">TW</a>&bull;<a href=\"https://www.facebook.com/TheXKCD/\">FB</a>&bull;<a href=\"https://www.instagram.com/xkcd/\">IG</a></li>\\n<li><a href=\"/books/\">-Books-</a></li>\\n<li><a href=\"/what-if-2/\">What If? 2</a></li>\\n<li><a href=\"/what-if/\">WI?</a>&bull;<a href=\"/thing-explainer/\">TE</a>&bull;<a href=\"/how-to/\">HT</a></li>\\n</ul>\\n</div>\\n<div id=\"topRight\">\\n<div id=\"masthead\">\\n<span><a href=\"/\"><img src=\"/s/0b7742.png\" alt=\"xkcd.com logo\" height=\"83\" width=\"185\"/></a></span>\\n<span id=\"slogan\">A webcomic of romance,<br/> sarcasm, math, and language.</span>\\n</div>\\n<div id=\"news\">\\n<div id=\"xkcdNews\">\\n<div id=\"countdown\" style=\"float: right; margin-right: 25px; width: 160px; height: 100px; position: relative;\"><a style=\"display: flex;\" href=\"https://xkcd.com/what-if-2/\"><img alt=\"\" style=\"width: 160px; height: 100px;\" src=\"https://xkcd.com/s/5bef6b.png\"><span style=\"position: absolute; left: 50%; top: 50%; transform: translate(-50%, -50%); padding: 0px 8px; color: black; font-family: xkcd-Regular-v3; font-size: 20px; font-variant: small-caps; letter-spacing: 1px; white-space: nowrap; background: white none repeat scroll 0% 0%; border-radius: 99px; display: none;\"></span></a></div>\\n</div>\\n\\n</div>\\n</div>\\n<div id=\"bgLeft\" class=\"bg box\"></div>\\n<div id=\"bgRight\" class=\"bg box\"></div>\\n</div>\\n<div id=\"middleContainer\" class=\"box\">\\n\\n<div id=\"ctitle\">Helium Reserve</div>\\n<ul class=\"comicNav\">\\n<li><a href=\"/1/\">|&lt;</a></li>\\n<li><a rel=\"prev\" href=\"/2765/\" accesskey=\"p\">&lt; Prev</a></li>\\n<li><a href=\"//c.xkcd.com/random/comic/\">Random</a></li>\\n<li><a rel=\"next\" href=\"#\" accesskey=\"n\">Next &gt;</a></li>\\n<li><a href=\"/\">&gt;|</a></li>\\n</ul>\\n<div id=\"comic\">\\n<img src=\"//imgs.xkcd.com/comics/helium_reserve.png\" title=\"The government has been trying to sell off the Federal Helium Reserve for a few years now, but the sale has been on hold while they try to figure out how to explain this situation to buyers.\" alt=\"Helium Reserve\" srcset=\"//imgs.xkcd.com/comics/helium_reserve_2x.png 2x\" style=\"image-orientation:none\" />\\n</div>\\n<ul class=\"comicNav\">\\n<li><a href=\"/1/\">|&lt;</a></li>\\n<li><a rel=\"prev\" href=\"/2765/\" accesskey=\"p\">&lt; Prev</a></li>\\n<li><a href=\"//c.xkcd.com/random/comic/\">Random</a></li>\\n<li><a rel=\"next\" href=\"#\" accesskey=\"n\">Next &gt;</a></li>\\n<li><a href=\"/\">&gt;|</a></li>\\n</ul>\\n<br />\\nPermanent link to this comic: <a href=\"https://xkcd.com/2766\">https://xkcd.com/2766/</a><br />\\nImage URL (for hotlinking/embedding): <a href= \"https://imgs.xkcd.com/comics/helium_reserve.png\">https://imgs.xkcd.com/comics/helium_reserve.png</a>\\n\\n<div id=\"transcript\" style=\"display: none\"></div>\\n</div>\\n<div id=\"bottom\" class=\"box\">\\n<img src=\"//imgs.xkcd.com/s/a899e84.jpg\" width=\"520\" height=\"100\" alt=\"Selected Comics\" usemap=\"#comicmap\"/>\\n<map id=\"comicmap\" name=\"comicmap\">\\n<area shape=\"rect\" coords=\"0,0,100,100\" href=\"/150/\" alt=\"Grownups\"/>\\n<area shape=\"rect\" coords=\"104,0,204,100\" href=\"/730/\" alt=\"Circuit Diagram\"/>\\n<area shape=\"rect\" coords=\"208,0,308,100\" href=\"/162/\" alt=\"Angular Momentum\"/>\\n<area shape=\"rect\" coords=\"312,0,412,100\" href=\"/688/\" alt=\"Self-Description\"/>\\n<area shape=\"rect\" coords=\"416,0,520,100\" href=\"/556/\" alt=\"Alternative Energy Revolution\"/>\\n</map>\\n<br />\\n<a href=\"//xkcd.com/1732/\"><img border=0 src=\"//imgs.xkcd.com/s/temperature.png\" width=\"520\" height=\"100\" alt=\"Earth temperature timeline\"></a>\\n<br />\\n<div>\\n<!--\\nSearch comic titles and transcripts:\\n<script type=\"text/javascript\" src=\"//www.google.com/jsapi\"></script>\\n<script type=\"text/javascript\">google.load(\\'search\\', \\'1\\');google.setOnLoadCallback(function() {google.search.CustomSearchControl.attachAutoCompletion(\\'012652707207066138651:zudjtuwe28q\\',document.getElementById(\\'q\\'),\\'cse-search-box\\');});</script>\\n<form action=\"//www.google.com/cse\" id=\"cse-search-box\">\\n<div>\\n<input type=\"hidden\" name=\"cx\" value=\"012652707207066138651:zudjtuwe28q\"/>\\n<input type=\"hidden\" name=\"ie\" value=\"UTF-8\"/>\\n<input type=\"text\" name=\"q\" id=\"q\" size=\"31\"/>\\n<input type=\"submit\" name=\"sa\" value=\"Search\"/>\\n</div>\\n</form>\\n<script type=\"text/javascript\" src=\"//www.google.com/cse/brand?form=cse-search-box&amp;lang=en\"></script>\\n-->\\n<a href=\"/rss.xml\">RSS Feed</a> - <a href=\"/atom.xml\">Atom Feed</a> - <a href=\"/newsletter/\">Email</a>\\n</div>\\n<br />\\n<div id=\"comicLinks\">\\nComics I enjoy:<br/>\\n        <a href=\"http://threewordphrase.com/\">Three Word Phrase</a>,\\n        <a href=\"https://www.smbc-comics.com/\">SMBC</a>,\\n        <a href=\"https://www.qwantz.com\">Dinosaur Comics</a>,\\n        <a href=\"https://oglaf.com/\">Oglaf</a> (nsfw),\\n        <a href=\"https://www.asofterworld.com\">A Softer World</a>,\\n        <a href=\"https://buttersafe.com/\">Buttersafe</a>,\\n        <a href=\"https://pbfcomics.com/\">Perry Bible Fellowship</a>,\\n        <a href=\"https://questionablecontent.net/\">Questionable Content</a>,\\n        <a href=\"http://www.buttercupfestival.com/\">Buttercup Festival</a>,\\n        <a href=\"https://www.homestuck.com/\">Homestuck</a>,\\n\\t<a href=\"https://www.jspowerhour.com/\">Junior Scientist Power Hour</a>\\n</div>\\n<br />\\n<div id=\"comicLinks\">\\nOther things:<br/>\\n        <a href=\"https://medium.com/civic-tech-thoughts-from-joshdata/so-you-want-to-reform-democracy-7f3b1ef10597\">Tips on technology and government</a>,<br /> \\n        <a href=\"https://www.nytimes.com/interactive/2017/climate/what-is-climate-change.html\">Climate FAQ</a>,\\n\\t<a href=\"https://twitter.com/KHayhoe\">Katharine Hayhoe</a>\\n</div>\\n<br />\\n<center>\\n<div id=\"footnote\" style=\"width:70%\">xkcd.com is best viewed with Netscape Navigator 4.0 or below on a Pentium 3&plusmn;1 emulated in Javascript on an Apple IIGS<br />at a screen resolution of 1024x1. Please enable your ad blockers, disable high-heat drying, and remove your device<br />from Airplane Mode and set it to Boat Mode. For security reasons, please leave caps lock on while browsing.</div>\\n</center>\\n<div id=\"licenseText\">\\n<p>\\nThis work is licensed under a\\n<a href=\"https://creativecommons.org/licenses/by-nc/2.5/\">Creative Commons Attribution-NonCommercial 2.5 License</a>.\\n</p><p>\\nThis means you\\'re free to copy and share these comics (but not to sell them). <a rel=\"license\" href=\"/license.html\">More details</a>.</p>\\n</div>\\n</div>\\n</body>\\n<!-- Layout by Ian Clasbey, davean, and chromakode -->\\n</html>\\n\\n'"
      ]
     },
     "execution_count": 6,
     "metadata": {},
     "output_type": "execute_result"
    }
   ],
   "source": [
    "#expected answer was \n",
    "response.content"
   ]
  },
  {
   "cell_type": "code",
   "execution_count": 7,
   "metadata": {},
   "outputs": [],
   "source": [
    "# Choose a random picture from the website, get it via API\n",
    "img_data = requests.get('https://imgs.xkcd.com/comics/linguistics_gossip_2x.png').content\n",
    "# and save it to the computer (same wd as this notebook)\n",
    "with open('image_name.jpg', 'wb') as handler:\n",
    "    handler.write(img_data)\n",
    "\n",
    "#note that the line below would have sufficed\n",
    "open('image.jpg','wb').write(img_data)"
   ]
  },
  {
   "cell_type": "markdown",
   "metadata": {},
   "source": [
    "## Challenge 2: Get a password "
   ]
  },
  {
   "attachments": {},
   "cell_type": "markdown",
   "metadata": {},
   "source": [
    "Go to the https://httpbin.org/get. it is a simple HTTP libraries use for testing"
   ]
  },
  {
   "cell_type": "code",
   "execution_count": 58,
   "metadata": {},
   "outputs": [
    {
     "name": "stdout",
     "output_type": "stream",
     "text": [
      "https://httpbin.org/get\n"
     ]
    }
   ],
   "source": [
    "response2 = requests.get('https://httpbin.org/get')\n",
    "response2"
   ]
  },
  {
   "cell_type": "code",
   "execution_count": 59,
   "metadata": {},
   "outputs": [
    {
     "name": "stdout",
     "output_type": "stream",
     "text": [
      "https://httpbin.org/get\n",
      "{\n",
      "  \"args\": {}, \n",
      "  \"headers\": {\n",
      "    \"Accept\": \"*/*\", \n",
      "    \"Accept-Encoding\": \"gzip, deflate, br\", \n",
      "    \"Host\": \"httpbin.org\", \n",
      "    \"User-Agent\": \"python-requests/2.28.1\", \n",
      "    \"X-Amzn-Trace-Id\": \"Root=1-64455572-37eedba430f1ff4e1cc9ccfc\"\n",
      "  }, \n",
      "  \"origin\": \"90.92.124.240\", \n",
      "  \"url\": \"https://httpbin.org/get\"\n",
      "}\n",
      "\n"
     ]
    }
   ],
   "source": [
    "print(response2.url)\n",
    "print(response2.text)"
   ]
  },
  {
   "cell_type": "code",
   "execution_count": 61,
   "metadata": {},
   "outputs": [
    {
     "name": "stdout",
     "output_type": "stream",
     "text": [
      "<Response [200]>\n"
     ]
    },
    {
     "data": {
      "text/plain": [
       "requests.models.Response"
      ]
     },
     "execution_count": 61,
     "metadata": {},
     "output_type": "execute_result"
    }
   ],
   "source": [
    "url = 'https://httpbin.org/post'\n",
    "params = {'things':2, 'total':25}\n",
    "response2 = requests.post(url, params)\n",
    "print(response2)\n",
    "type(response2)"
   ]
  },
  {
   "cell_type": "code",
   "execution_count": 64,
   "metadata": {},
   "outputs": [
    {
     "name": "stdout",
     "output_type": "stream",
     "text": [
      "{\n",
      "  \"args\": {\n",
      "    \"password\": \"tt\", \n",
      "    \"username\": \"t\"\n",
      "  }, \n",
      "  \"data\": \"\", \n",
      "  \"files\": {}, \n",
      "  \"form\": {}, \n",
      "  \"headers\": {\n",
      "    \"Accept\": \"*/*\", \n",
      "    \"Accept-Encoding\": \"gzip, deflate, br\", \n",
      "    \"Content-Length\": \"0\", \n",
      "    \"Host\": \"httpbin.org\", \n",
      "    \"User-Agent\": \"python-requests/2.28.1\", \n",
      "    \"X-Amzn-Trace-Id\": \"Root=1-6445563d-77ace2800e5c588454b2c038\"\n",
      "  }, \n",
      "  \"json\": null, \n",
      "  \"origin\": \"90.92.124.240\", \n",
      "  \"url\": \"https://httpbin.org/post?username=t&password=tt\"\n",
      "}\n",
      "\n"
     ]
    },
    {
     "data": {
      "text/plain": [
       "requests.models.Response"
      ]
     },
     "execution_count": 64,
     "metadata": {},
     "output_type": "execute_result"
    }
   ],
   "source": [
    "# Add username and password as parameters\n",
    "new2 = {\"username\": \"t\", \"password\": \"tt\"}\n",
    "url = 'https://httpbin.org/post'\n",
    "response2 = requests.post(url, params=new2)\n",
    "print(response2.text)\n",
    "type(response2)"
   ]
  },
  {
   "cell_type": "code",
   "execution_count": 71,
   "metadata": {},
   "outputs": [
    {
     "name": "stdout",
     "output_type": "stream",
     "text": [
      "{'password': 'tt', 'username': 't'}\n"
     ]
    }
   ],
   "source": [
    "# Export username and password as dictionary\n",
    "results2=response2.json()\n",
    "dict={}\n",
    "dict['password']=results2[\"args\"][\"password\"]\n",
    "dict['username']=results2[\"args\"][\"username\"]\n",
    "print(dict)\n"
   ]
  },
  {
   "cell_type": "code",
   "execution_count": 65,
   "metadata": {},
   "outputs": [
    {
     "name": "stdout",
     "output_type": "stream",
     "text": [
      "<class 'requests.models.Response'>\n",
      "{'args': {'password': 'p', 'username': 'u'}, 'data': '', 'files': {}, 'form': {}, 'headers': {'Accept': '*/*', 'Accept-Encoding': 'gzip, deflate, br', 'Content-Length': '0', 'Host': 'httpbin.org', 'User-Agent': 'python-requests/2.28.1', 'X-Amzn-Trace-Id': 'Root=1-6445566c-2be855927dbb11c4121d622e'}, 'json': None, 'origin': '90.92.124.240', 'url': 'https://httpbin.org/post?username=u&password=p'}\n"
     ]
    }
   ],
   "source": [
    "# this was the expected response - but I have no idea what it means or what this method is useful for. \n",
    "# in this case it adds the dictionary in \"user_and_pass\" to the arguments (because it is the 1st element in the dictionary?)\n",
    "# apparently it picks up the data inside the url (httpbin.org) and changes it \n",
    "# https://www.w3schools.com/python/ref_requests_post.asp \n",
    "\n",
    "user_and_pass = {\"username\": \"u\", \"password\": \"p\"}\n",
    "response = requests.post(\"https://httpbin.org/post\", params = user_and_pass)\n",
    "print(type(response))\n",
    "results = response.json()\n",
    "print(results)"
   ]
  },
  {
   "cell_type": "code",
   "execution_count": 72,
   "metadata": {},
   "outputs": [
    {
     "name": "stdout",
     "output_type": "stream",
     "text": [
      "<class 'requests.models.Response'>\n",
      "https://httpbin.org/post?username=u&password=p\n",
      "{\n",
      "  \"args\": {\n",
      "    \"password\": \"p\", \n",
      "    \"username\": \"u\"\n",
      "  }, \n",
      "  \"data\": \"\", \n",
      "  \"files\": {}, \n",
      "  \"form\": {}, \n",
      "  \"headers\": {\n",
      "    \"Accept\": \"*/*\", \n",
      "    \"Accept-Encoding\": \"gzip, deflate, br\", \n",
      "    \"Content-Length\": \"0\", \n",
      "    \"Host\": \"httpbin.org\", \n",
      "    \"User-Agent\": \"python-requests/2.28.1\", \n",
      "    \"X-Amzn-Trace-Id\": \"Root=1-64455876-720c895901ae14b92eb4d013\"\n",
      "  }, \n",
      "  \"json\": null, \n",
      "  \"origin\": \"90.92.124.240\", \n",
      "  \"url\": \"https://httpbin.org/post?username=u&password=p\"\n",
      "}\n",
      "\n"
     ]
    }
   ],
   "source": [
    "url = 'https://httpbin.org/post'\n",
    "myobj = {\"username\": \"u\", \"password\": \"p\"}\n",
    "x = requests.post(url, params= myobj)\n",
    "#print the response text (the content of the requested file):\n",
    "print(type(x))\n",
    "print(x.url)\n",
    "print(x.text)\n"
   ]
  },
  {
   "attachments": {},
   "cell_type": "markdown",
   "metadata": {},
   "source": [
    "If what you wanted to teach us was this : https://apipheny.io/what-are-api-parameters/ \n",
    "Seriously, change the lab. "
   ]
  },
  {
   "cell_type": "markdown",
   "metadata": {},
   "source": [
    "## Challenge 3: Hidden Cold Joke"
   ]
  },
  {
   "cell_type": "raw",
   "metadata": {},
   "source": [
    "Using Python, call Github API to find out the cold joke contained in the 24 secret files in the following repo:\n",
    "\n",
    "https://github.com/ironhack-datalabs/scavenger\n",
    "\n",
    "The secret files \n",
    "- their filename contains .scavengerhunt\n",
    "- they are scattered randomly in different directories of the repo \n",
    "- are named from .0001.scavengerhunt to .0024.scavengerhunt. \n",
    "\n",
    "You need to search for these files by calling the Github API, not searching the local files on your computer.\n",
    "\n",
    "Notes:\n",
    "    You will need to study the Github API documentation to decide which API endpoint to call \n",
    "    and what parameters to use in order to obtain the information you need. \n",
    "    Unless you are already super familiar with Github API or super lucky, \n",
    "    you probably will do some trials and errors. Therefore, be prepared to go back and forth \n",
    "    in studying the API documentation, testing, and revising until you obtain what you need.\n",
    "\n",
    "    After receiving the JSON data object, you need to inspect its structure and decide how to parse the data.\n",
    "\n",
    "After you find out the secrete files:\n",
    "\n",
    "    Sort the filenames ascendingly.\n",
    "\n",
    "    Read the content of each secret files into an array of strings.\n",
    "\n",
    "    Concatenate the strings in the array separating each two with a whitespace.\n",
    "\n",
    "    Print out the joke.\n"
   ]
  },
  {
   "cell_type": "code",
   "execution_count": null,
   "metadata": {},
   "outputs": [],
   "source": [
    "#not done yet\n",
    "# set up the github token \n",
    "# in github, give the token scope for the repo and read:org \n",
    "# installing thunder client in vscode \n",
    "\n",
    "# searching a repository : https://api.github.com/search/repositories?q=\n",
    "# finding the repo : https://api.github.com/search/repositories?q=ironhack-datalabs/scavenger\n",
    "# https://api.github.com/search/repositories?q=ironhack-datalabs/scavenger&login=eye8&q=.scavengerhunt - 376 \n",
    "# https://api.github.com/search/code?q=repo:ironhack-datalabs/scavenger&name=.scavengerhunt\n",
    "\n",
    "# import requests\n",
    "#gh auth login --with-token < token.txt\n",
    "# auth = gh auth login --with-token < token.txt\n",
    "# scavenger=requests.get('https://api.github.com/search/code?q=repo:ironhack-datalabs/scavenger&name=.scavengerhunt')\n",
    "# print(scavenger)\n",
    "# code?q=repo:ironhack-datalabs/scavenger&name=.scavengerhunt\n",
    "# q=.scavengerhunt+in:Filename+repo:ironhack-datalabs/scavenger\n",
    "# gh api -X GET search/code -f q='repo:ironhack-datalabs/scavenger&name=.scavengerhunt'\n",
    "#scavenger=requests.get(https://api.github.com/search/code?q=repo:ironhack-datalabs/scavenger&name=.scavengerhunt\")"
   ]
  },
  {
   "cell_type": "code",
   "execution_count": null,
   "metadata": {},
   "outputs": [],
   "source": [
    "\n"
   ]
  }
 ],
 "metadata": {
  "kernelspec": {
   "display_name": "Python 3 (ipykernel)",
   "language": "python",
   "name": "python3"
  },
  "language_info": {
   "codemirror_mode": {
    "name": "ipython",
    "version": 3
   },
   "file_extension": ".py",
   "mimetype": "text/x-python",
   "name": "python",
   "nbconvert_exporter": "python",
   "pygments_lexer": "ipython3",
   "version": "3.9.16"
  }
 },
 "nbformat": 4,
 "nbformat_minor": 2
}
