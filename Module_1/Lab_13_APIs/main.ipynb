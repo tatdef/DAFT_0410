{
 "cells": [
  {
   "attachments": {},
   "cell_type": "markdown",
   "metadata": {},
   "source": [
    "# Lab 13 on APIs"
   ]
  },
  {
   "cell_type": "code",
   "execution_count": 45,
   "metadata": {},
   "outputs": [],
   "source": [
    "import pandas as pd \n",
    "import json\n",
    "import requests\n",
    "from pandas.io.json import json_normalize"
   ]
  },
  {
   "cell_type": "code",
   "execution_count": 46,
   "metadata": {},
   "outputs": [
    {
     "data": {
      "text/plain": [
       "<Response [200]>"
      ]
     },
     "execution_count": 46,
     "metadata": {},
     "output_type": "execute_result"
    }
   ],
   "source": [
    "response = requests.get('https://xkcd.com')\n",
    "response"
   ]
  },
  {
   "cell_type": "code",
   "execution_count": 47,
   "metadata": {},
   "outputs": [
    {
     "data": {
      "text/plain": [
       "{'Connection': 'keep-alive', 'Content-Length': '2920', 'Server': 'nginx', 'Content-Type': 'text/html; charset=UTF-8', 'Last-Modified': 'Fri, 14 Apr 2023 13:46:07 GMT', 'ETag': 'W/\"6439591f-1d1b\"', 'Expires': 'Fri, 14 Apr 2023 13:52:25 GMT', 'Cache-Control': 'max-age=300', 'Content-Encoding': 'gzip', 'Via': '1.1 varnish, 1.1 varnish', 'Accept-Ranges': 'bytes', 'Date': 'Mon, 17 Apr 2023 15:05:09 GMT', 'Age': '226', 'X-Served-By': 'cache-dfw-kdfw8210096-DFW, cache-lin2290027-LIN', 'X-Cache': 'HIT, HIT', 'X-Cache-Hits': '79, 1', 'X-Timer': 'S1681743910.632534,VS0,VE1', 'Vary': 'Accept-Encoding'}"
      ]
     },
     "execution_count": 47,
     "metadata": {},
     "output_type": "execute_result"
    }
   ],
   "source": [
    "response.headers"
   ]
  },
  {
   "cell_type": "code",
   "execution_count": 48,
   "metadata": {},
   "outputs": [
    {
     "data": {
      "text/plain": [
       "'Fri, 14 Apr 2023 13:52:25 GMT'"
      ]
     },
     "execution_count": 48,
     "metadata": {},
     "output_type": "execute_result"
    }
   ],
   "source": [
    "response.headers['expires']"
   ]
  },
  {
   "cell_type": "code",
   "execution_count": 49,
   "metadata": {},
   "outputs": [
    {
     "name": "stdout",
     "output_type": "stream",
     "text": [
      "['<html', '<head', '<link', '<title', '<meta', '<link', '<link', '<link', '<link', '<script', '<script', '<meta', '<meta', '<meta', '<meta', '<meta', '<body', '<div', '<div', '<ul', '<li', '<a', '<li', '<a', '<li', '<a', '<li', '<a', '<a', '<li', '<a', '<a', '<a', '<li', '<a', '<li', '<a', '<li', '<a', '<a', '<a', '<div', '<div', '<span', '<a', '<img', '<span', '<br', '<div', '<div', '<div', '<a', '<img', '<span', '<div', '<div', '<div', '<div', '<ul', '<li', '<a', '<li', '<a', '<li', '<a', '<li', '<a', '<li', '<a', '<div', '<img', '<ul', '<li', '<a', '<li', '<a', '<li', '<a', '<li', '<a', '<li', '<a', '<br', '<a', '<br', '<a', '<div', '<div', '<img', '<map', '<area', '<area', '<area', '<area', '<area', '<br', '<a', '<img', '<br', '<div', '<script', '<script', '<form', '<div', '<input', '<input', '<input', '<input', '<script', '<a', '<a', '<a', '<br', '<div', '<br', '<a', '<a', '<a', '<a', '<a', '<a', '<a', '<a', '<a', '<a', '<a', '<br', '<div', '<br', '<a', '<br', '<a', '<a', '<br', '<center', '<div', '<br', '<br', '<div', '<p', '<a', '<p', '<a']\n"
     ]
    }
   ],
   "source": [
    "import re\n",
    "pattern='[<][\\w]+'\n",
    "list=re.findall(pattern, response.text)\n",
    "print(list)"
   ]
  },
  {
   "cell_type": "code",
   "execution_count": 60,
   "metadata": {},
   "outputs": [],
   "source": [
    "img_data = requests.get('https://imgs.xkcd.com/comics/linguistics_gossip_2x.png').content\n",
    "with open('image_name.jpg', 'wb') as handler:\n",
    "    handler.write(img_data)"
   ]
  },
  {
   "cell_type": "code",
   "execution_count": 61,
   "metadata": {},
   "outputs": [
    {
     "data": {
      "text/plain": [
       "48428"
      ]
     },
     "execution_count": 61,
     "metadata": {},
     "output_type": "execute_result"
    }
   ],
   "source": [
    "open('image.jpg','wb').write(img_data)"
   ]
  }
 ],
 "metadata": {
  "kernelspec": {
   "display_name": "Python 3",
   "language": "python",
   "name": "python3"
  },
  "language_info": {
   "codemirror_mode": {
    "name": "ipython",
    "version": 3
   },
   "file_extension": ".py",
   "mimetype": "text/x-python",
   "name": "python",
   "nbconvert_exporter": "python",
   "pygments_lexer": "ipython3",
   "version": "3.9.16"
  }
 },
 "nbformat": 4,
 "nbformat_minor": 2
}
