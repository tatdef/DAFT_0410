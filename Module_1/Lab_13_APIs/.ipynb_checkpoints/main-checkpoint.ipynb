{
 "cells": [
  {
   "cell_type": "markdown",
   "metadata": {},
   "source": [
    "# Lab 13 on APIs"
   ]
  },
  {
   "cell_type": "markdown",
   "metadata": {},
   "source": [
    "## Challenge 1: Get a Picture"
   ]
  },
  {
   "cell_type": "code",
   "execution_count": null,
   "metadata": {},
   "outputs": [],
   "source": [
    "import pandas as pd \n",
    "import json\n",
    "import requests\n",
    "from pandas.io.json import json_normalize"
   ]
  },
  {
   "cell_type": "code",
   "execution_count": null,
   "metadata": {},
   "outputs": [],
   "source": [
    "response = requests.get('https://xkcd.com')\n",
    "response"
   ]
  },
  {
   "cell_type": "code",
   "execution_count": null,
   "metadata": {},
   "outputs": [],
   "source": [
    "response.headers"
   ]
  },
  {
   "cell_type": "code",
   "execution_count": null,
   "metadata": {},
   "outputs": [],
   "source": [
    "response.headers['expires']"
   ]
  },
  {
   "cell_type": "code",
   "execution_count": null,
   "metadata": {},
   "outputs": [],
   "source": [
    "#expected answer was \n",
    "response.content"
   ]
  },
  {
   "cell_type": "code",
   "execution_count": null,
   "metadata": {},
   "outputs": [],
   "source": [
    "import re\n",
    "pattern='[<][\\w]+'\n",
    "list=re.findall(pattern, response.text)\n",
    "print(list)"
   ]
  },
  {
   "cell_type": "code",
   "execution_count": null,
   "metadata": {},
   "outputs": [],
   "source": [
    "img_data = requests.get('https://imgs.xkcd.com/comics/linguistics_gossip_2x.png').content\n",
    "with open('image_name.jpg', 'wb') as handler:\n",
    "    handler.write(img_data)"
   ]
  },
  {
   "cell_type": "code",
   "execution_count": null,
   "metadata": {},
   "outputs": [],
   "source": [
    "open('image.jpg','wb').write(img_data)"
   ]
  },
  {
   "cell_type": "code",
   "execution_count": null,
   "metadata": {},
   "outputs": [],
   "source": [
    "## Challenge 2: Get a password "
   ]
  },
  {
   "cell_type": "markdown",
   "metadata": {},
   "source": [
    "    Go to the https://httpbin.org/get. it is a simple HTTP libraries use for testing\n",
    "    View url\n",
    "    Add parameters to the request 'things':2,'total':25\n",
    "    Add username and password as parameters\n",
    "    Export username and password as dictionary"
   ]
  },
  {
   "cell_type": "code",
   "execution_count": null,
   "metadata": {},
   "outputs": [],
   "source": [
    "response2 = requests.get('https://httpbin.org/get')\n",
    "response2"
   ]
  },
  {
   "cell_type": "code",
   "execution_count": null,
   "metadata": {},
   "outputs": [],
   "source": [
    "response2.text"
   ]
  },
  {
   "cell_type": "code",
   "execution_count": null,
   "metadata": {},
   "outputs": [],
   "source": [
    "response2.url"
   ]
  },
  {
   "cell_type": "code",
   "execution_count": null,
   "metadata": {},
   "outputs": [],
   "source": [
    "response3=response2.json()\n",
    "response3"
   ]
  },
  {
   "cell_type": "code",
   "execution_count": null,
   "metadata": {},
   "outputs": [],
   "source": [
    "url = 'https://httpbin.org/post'\n",
    "new = {'things':2, 'total':25}\n",
    "result=requests.post(url,data = new)\n",
    "print(result.text)"
   ]
  },
  {
   "cell_type": "code",
   "execution_count": null,
   "metadata": {},
   "outputs": [],
   "source": [
    "new2 = {\"username\": \"t\", \"password\": \"tt\"}\n",
    "result2= requests.post(\"https://httpbin.org/post\",new2)\n",
    "print(result2.text)\n",
    "#so this way to do it puts the username and password in the \"form\" part of the dictionary.. "
   ]
  },
  {
   "cell_type": "code",
   "execution_count": null,
   "metadata": {},
   "outputs": [],
   "source": [
    "user_and_pass = {\"username\": \"u\", \"password\": \"p\"}\n",
    "response = requests.post(\"https://httpbin.org/post\", params = user_and_pass)\n",
    "results = response.json()\n",
    "# and this way puts them in arguments"
   ]
  },
  {
   "cell_type": "code",
   "execution_count": null,
   "metadata": {},
   "outputs": [],
   "source": [
    "print(results)"
   ]
  },
  {
   "cell_type": "code",
   "execution_count": null,
   "metadata": {},
   "outputs": [],
   "source": [
    "# I'm not sure what the difference means, or what the requests.post is used for ? \n",
    "# what are we trying to do here ? "
   ]
  },
  {
   "cell_type": "code",
   "execution_count": null,
   "metadata": {},
   "outputs": [],
   "source": [
    "def resp(url, data, user, password):\n",
    "    data={}\n",
    "    auth=(user,password)\n",
    "    return requests.post(url, data, auth)"
   ]
  },
  {
   "cell_type": "code",
   "execution_count": null,
   "metadata": {},
   "outputs": [],
   "source": [
    "results=(resp('https://httpbin.org/post', {}, 't', 'tt')).json()"
   ]
  },
  {
   "cell_type": "code",
   "execution_count": null,
   "metadata": {},
   "outputs": [],
   "source": [
    "print(results)"
   ]
  },
  {
   "cell_type": "markdown",
   "metadata": {},
   "source": [
    "## moving on"
   ]
  },
  {
   "cell_type": "markdown",
   "metadata": {},
   "source": [
    "## Challenge 3: Hidden Cold Joke"
   ]
  },
  {
   "cell_type": "raw",
   "metadata": {},
   "source": [
    "Using Python, \n",
    "call Github API to find out the cold joke \n",
    "contained in the 24 secret files \n",
    "in the following repo:\n",
    "\n",
    "https://github.com/ironhack-datalabs/scavenger\n",
    "\n",
    "The filenames of the secret files contain \n",
    ".scavengerhunt and they are scattered \n",
    "in different directories of this repo. \n",
    "The secret files are named from .0001.scavengerhunt \n",
    "to .0024.scavengerhunt. T\n",
    "hey are scattered randomly throughout this repo. \n",
    "You need to search for these files by calling the Github API, \n",
    "not searching the local files on your computer.\n",
    "\n",
    "Notes:\n",
    "\n",
    "    Github API documentation can be found here.\n",
    "\n",
    "    You will need to study the Github API documentation to decide which API endpoint to call and what parameters to use in order to obtain the information you need. Unless you are already super familiar with Github API or super lucky, you probably will do some trials and errors. Therefore, be prepared to go back and forth in studying the API documentation, testing, and revising until you obtain what you need.\n",
    "\n",
    "    After receiving the JSON data object, you need to inspect its structure and decide how to parse the data.\n",
    "\n",
    "    When you test your requests with Github API, sometimes you may be blocked by Github with an error message that reads:\n",
    "\n",
    "        You have triggered an abuse detection mechanism and have been temporarily blocked from content creation. Please retry your request again later.\n",
    "\n",
    "    Don't worry. Check the parameters in your request and wait for a minute or two before you make additional requests.\n",
    "\n",
    "After you find out the secrete files:\n",
    "\n",
    "    Sort the filenames ascendingly.\n",
    "\n",
    "    Read the content of each secret files into an array of strings.\n",
    "\n",
    "    Concatenate the strings in the array separating each two with a whitespace.\n",
    "\n",
    "    Print out the joke.\n"
   ]
  },
  {
   "cell_type": "code",
   "execution_count": null,
   "metadata": {},
   "outputs": [],
   "source": [
    "#not done yet"
   ]
  }
 ],
 "metadata": {
  "kernelspec": {
   "display_name": "Python 3 (ipykernel)",
   "language": "python",
   "name": "python3"
  },
  "language_info": {
   "codemirror_mode": {
    "name": "ipython",
    "version": 3
   },
   "file_extension": ".py",
   "mimetype": "text/x-python",
   "name": "python",
   "nbconvert_exporter": "python",
   "pygments_lexer": "ipython3",
   "version": "3.9.16"
  }
 },
 "nbformat": 4,
 "nbformat_minor": 2
}
