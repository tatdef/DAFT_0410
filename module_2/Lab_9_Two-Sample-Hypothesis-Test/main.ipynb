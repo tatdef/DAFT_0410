{
 "cells": [
  {
   "cell_type": "markdown",
   "metadata": {},
   "source": [
    "# Before your start:\n",
    "- Read the README.md file\n",
    "- Comment as much as you can and use the resources (README.md file)\n",
    "- Happy learning!"
   ]
  },
  {
   "cell_type": "code",
   "execution_count": 2,
   "metadata": {},
   "outputs": [],
   "source": [
    "# import numpy and pandas\n",
    "import numpy as np \n",
    "import pandas as pd\n"
   ]
  },
  {
   "cell_type": "markdown",
   "metadata": {},
   "source": [
    "# Challenge 1 - Independent Sample T-tests\n",
    "\n",
    "In this challenge, we will be using the Pokemon dataset. Before applying statistical methods to this data, let's first examine the data.\n",
    "\n",
    "To load the data, run the code below."
   ]
  },
  {
   "cell_type": "code",
   "execution_count": 4,
   "metadata": {},
   "outputs": [],
   "source": [
    "# Run this code:\n",
    "\n",
    "pokemon = pd.read_csv('pokemon.csv')"
   ]
  },
  {
   "cell_type": "markdown",
   "metadata": {},
   "source": [
    "Let's start off by looking at the `head` function in the cell below."
   ]
  },
  {
   "cell_type": "code",
   "execution_count": 5,
   "metadata": {},
   "outputs": [
    {
     "data": {
      "text/html": [
       "<div>\n",
       "<style scoped>\n",
       "    .dataframe tbody tr th:only-of-type {\n",
       "        vertical-align: middle;\n",
       "    }\n",
       "\n",
       "    .dataframe tbody tr th {\n",
       "        vertical-align: top;\n",
       "    }\n",
       "\n",
       "    .dataframe thead th {\n",
       "        text-align: right;\n",
       "    }\n",
       "</style>\n",
       "<table border=\"1\" class=\"dataframe\">\n",
       "  <thead>\n",
       "    <tr style=\"text-align: right;\">\n",
       "      <th></th>\n",
       "      <th>#</th>\n",
       "      <th>Name</th>\n",
       "      <th>Type 1</th>\n",
       "      <th>Type 2</th>\n",
       "      <th>Total</th>\n",
       "      <th>HP</th>\n",
       "      <th>Attack</th>\n",
       "      <th>Defense</th>\n",
       "      <th>Sp. Atk</th>\n",
       "      <th>Sp. Def</th>\n",
       "      <th>Speed</th>\n",
       "      <th>Generation</th>\n",
       "      <th>Legendary</th>\n",
       "    </tr>\n",
       "  </thead>\n",
       "  <tbody>\n",
       "    <tr>\n",
       "      <th>0</th>\n",
       "      <td>1</td>\n",
       "      <td>Bulbasaur</td>\n",
       "      <td>Grass</td>\n",
       "      <td>Poison</td>\n",
       "      <td>318</td>\n",
       "      <td>45</td>\n",
       "      <td>49</td>\n",
       "      <td>49</td>\n",
       "      <td>65</td>\n",
       "      <td>65</td>\n",
       "      <td>45</td>\n",
       "      <td>1</td>\n",
       "      <td>False</td>\n",
       "    </tr>\n",
       "    <tr>\n",
       "      <th>1</th>\n",
       "      <td>2</td>\n",
       "      <td>Ivysaur</td>\n",
       "      <td>Grass</td>\n",
       "      <td>Poison</td>\n",
       "      <td>405</td>\n",
       "      <td>60</td>\n",
       "      <td>62</td>\n",
       "      <td>63</td>\n",
       "      <td>80</td>\n",
       "      <td>80</td>\n",
       "      <td>60</td>\n",
       "      <td>1</td>\n",
       "      <td>False</td>\n",
       "    </tr>\n",
       "    <tr>\n",
       "      <th>2</th>\n",
       "      <td>3</td>\n",
       "      <td>Venusaur</td>\n",
       "      <td>Grass</td>\n",
       "      <td>Poison</td>\n",
       "      <td>525</td>\n",
       "      <td>80</td>\n",
       "      <td>82</td>\n",
       "      <td>83</td>\n",
       "      <td>100</td>\n",
       "      <td>100</td>\n",
       "      <td>80</td>\n",
       "      <td>1</td>\n",
       "      <td>False</td>\n",
       "    </tr>\n",
       "    <tr>\n",
       "      <th>3</th>\n",
       "      <td>3</td>\n",
       "      <td>VenusaurMega Venusaur</td>\n",
       "      <td>Grass</td>\n",
       "      <td>Poison</td>\n",
       "      <td>625</td>\n",
       "      <td>80</td>\n",
       "      <td>100</td>\n",
       "      <td>123</td>\n",
       "      <td>122</td>\n",
       "      <td>120</td>\n",
       "      <td>80</td>\n",
       "      <td>1</td>\n",
       "      <td>False</td>\n",
       "    </tr>\n",
       "    <tr>\n",
       "      <th>4</th>\n",
       "      <td>4</td>\n",
       "      <td>Charmander</td>\n",
       "      <td>Fire</td>\n",
       "      <td>NaN</td>\n",
       "      <td>309</td>\n",
       "      <td>39</td>\n",
       "      <td>52</td>\n",
       "      <td>43</td>\n",
       "      <td>60</td>\n",
       "      <td>50</td>\n",
       "      <td>65</td>\n",
       "      <td>1</td>\n",
       "      <td>False</td>\n",
       "    </tr>\n",
       "  </tbody>\n",
       "</table>\n",
       "</div>"
      ],
      "text/plain": [
       "   #                   Name Type 1  Type 2  Total  HP  Attack  Defense  \\\n",
       "0  1              Bulbasaur  Grass  Poison    318  45      49       49   \n",
       "1  2                Ivysaur  Grass  Poison    405  60      62       63   \n",
       "2  3               Venusaur  Grass  Poison    525  80      82       83   \n",
       "3  3  VenusaurMega Venusaur  Grass  Poison    625  80     100      123   \n",
       "4  4             Charmander   Fire     NaN    309  39      52       43   \n",
       "\n",
       "   Sp. Atk  Sp. Def  Speed  Generation  Legendary  \n",
       "0       65       65     45           1      False  \n",
       "1       80       80     60           1      False  \n",
       "2      100      100     80           1      False  \n",
       "3      122      120     80           1      False  \n",
       "4       60       50     65           1      False  "
      ]
     },
     "execution_count": 5,
     "metadata": {},
     "output_type": "execute_result"
    }
   ],
   "source": [
    "# Your code here:\n",
    "pokemon.head()\n"
   ]
  },
  {
   "cell_type": "markdown",
   "metadata": {},
   "source": [
    "The first thing we would like to do is compare the legendary Pokemon to the regular Pokemon. To do this, we should examine the data further. What is the count of legendary vs. non legendary Pokemons?"
   ]
  },
  {
   "cell_type": "code",
   "execution_count": 6,
   "metadata": {},
   "outputs": [
    {
     "data": {
      "text/plain": [
       "False    735\n",
       "True      65\n",
       "Name: Legendary, dtype: int64"
      ]
     },
     "execution_count": 6,
     "metadata": {},
     "output_type": "execute_result"
    }
   ],
   "source": [
    "# Your code here:\n",
    "pokemon['Legendary'].value_counts()\n",
    "# there are 65 legendary pokemons, and 735 non legendary ones. \n"
   ]
  },
  {
   "cell_type": "markdown",
   "metadata": {},
   "source": [
    "Compute the mean and standard deviation of the total points for both legendary and non-legendary Pokemon."
   ]
  },
  {
   "cell_type": "code",
   "execution_count": 15,
   "metadata": {},
   "outputs": [
    {
     "data": {
      "text/plain": [
       "(Legendary\n",
       " False    417.213605\n",
       " True     637.384615\n",
       " Name: Total, dtype: float64,\n",
       " Legendary\n",
       " False    106.760417\n",
       " True      60.937389\n",
       " Name: Total, dtype: float64)"
      ]
     },
     "execution_count": 15,
     "metadata": {},
     "output_type": "execute_result"
    }
   ],
   "source": [
    "# Your code here:\n",
    "a = pokemon['Total'].groupby(pokemon['Legendary']).mean()\n",
    "b = pokemon['Total'].groupby(pokemon['Legendary']).std()\n",
    "a, b"
   ]
  },
  {
   "cell_type": "markdown",
   "metadata": {},
   "source": [
    "The computation of the mean might give us a clue regarding how the statistical test may turn out; However, it certainly does not prove whether there is a significant difference between the two groups.\n",
    "\n",
    "In the cell below, use the `ttest_ind` function in `scipy.stats` to compare the the total points for legendary and non-legendary Pokemon. Since we do not have any information about the population, assume the variances are not equal."
   ]
  },
  {
   "cell_type": "code",
   "execution_count": 72,
   "metadata": {},
   "outputs": [
    {
     "data": {
      "text/plain": [
       "0      318\n",
       "1      405\n",
       "2      525\n",
       "3      625\n",
       "4      309\n",
       "      ... \n",
       "787    494\n",
       "788    304\n",
       "789    514\n",
       "790    245\n",
       "791    535\n",
       "Name: Total, Length: 735, dtype: int64"
      ]
     },
     "execution_count": 72,
     "metadata": {},
     "output_type": "execute_result"
    }
   ],
   "source": [
    "# Your code here:\n",
    "import scipy \n",
    "from scipy import stats\n",
    "\n",
    "legendary= pokemon.query(\"Legendary==True\")[\"Total\"]\n",
    "regular= pokemon.query(\"Legendary==False\")[\"Total\"]\n",
    "regular\n"
   ]
  },
  {
   "cell_type": "code",
   "execution_count": 73,
   "metadata": {},
   "outputs": [
    {
     "data": {
      "image/png": "[encoded data removed]",
      "text/plain": [
       "<Figure size 640x480 with 1 Axes>"
      ]
     },
     "metadata": {},
     "output_type": "display_data"
    }
   ],
   "source": [
    "import matplotlib\n",
    "from matplotlib import pyplot as plt\n",
    "\n",
    "plt.hist(list(legendary), alpha=.3, color='blue', bins=30, density=True);\n",
    "plt.hist(list(regular), alpha=.3, color='red', bins=30, density=True);\n",
    "\n"
   ]
  },
  {
   "cell_type": "code",
   "execution_count": 78,
   "metadata": {},
   "outputs": [
    {
     "data": {
      "text/plain": [
       "[<matplotlib.lines.Line2D at 0x148f91880>]"
      ]
     },
     "execution_count": 78,
     "metadata": {},
     "output_type": "execute_result"
    },
    {
     "data": {
      "image/png": "[encoded data removed]",
      "text/plain": [
       "<Figure size 1000x1000 with 1 Axes>"
      ]
     },
     "metadata": {},
     "output_type": "display_data"
    }
   ],
   "source": [
    "fig, ax = plt.subplots(nrows=1, ncols=1, sharey=True, figsize=(10,10))\n",
    "plt.plot(list(legendary))\n",
    "plt.plot(list(regular))"
   ]
  },
  {
   "cell_type": "code",
   "execution_count": 79,
   "metadata": {},
   "outputs": [
    {
     "data": {
      "text/plain": [
       "3.0952457469652825e-52"
      ]
     },
     "execution_count": 79,
     "metadata": {},
     "output_type": "execute_result"
    }
   ],
   "source": [
    "stats.ttest_ind(list(legendary), list(regular)).pvalue"
   ]
  },
  {
   "cell_type": "markdown",
   "metadata": {},
   "source": [
    "What do you conclude from this test? Write your conclusions below."
   ]
  },
  {
   "cell_type": "code",
   "execution_count": 6,
   "metadata": {},
   "outputs": [],
   "source": [
    "# Your conclusions here:\n",
    "# The p-value is very, very small (>50 zeros after decimal)\n",
    "# so we can say with a 5% change of being wrong that these two series don't share the same mean ? \n"
   ]
  },
  {
   "cell_type": "markdown",
   "metadata": {},
   "source": [
    "How about we try to compare the different types of pokemon? In the cell below, list the types of Pokemon from column `Type 1` and the count of each type."
   ]
  },
  {
   "cell_type": "code",
   "execution_count": 80,
   "metadata": {},
   "outputs": [
    {
     "data": {
      "text/plain": [
       "Water       112\n",
       "Normal       98\n",
       "Grass        70\n",
       "Bug          69\n",
       "Psychic      57\n",
       "Fire         52\n",
       "Electric     44\n",
       "Rock         44\n",
       "Dragon       32\n",
       "Ground       32\n",
       "Ghost        32\n",
       "Dark         31\n",
       "Poison       28\n",
       "Steel        27\n",
       "Fighting     27\n",
       "Ice          24\n",
       "Fairy        17\n",
       "Flying        4\n",
       "Name: Type 1, dtype: int64"
      ]
     },
     "execution_count": 80,
     "metadata": {},
     "output_type": "execute_result"
    }
   ],
   "source": [
    "# Your code here:\n",
    "pokemon['Type 1'].value_counts()\n"
   ]
  },
  {
   "cell_type": "markdown",
   "metadata": {},
   "source": [
    "Since water is the largest group of Pokemon, compare the mean and standard deviation of water Pokemon to all other Pokemon."
   ]
  },
  {
   "cell_type": "code",
   "execution_count": 103,
   "metadata": {},
   "outputs": [
    {
     "data": {
      "text/plain": [
       "(430.45535714285717,\n",
       " 113.18826606431458,\n",
       " 435.85901162790697,\n",
       " 121.09168230208066)"
      ]
     },
     "execution_count": 103,
     "metadata": {},
     "output_type": "execute_result"
    }
   ],
   "source": [
    "# Your code here:\n",
    "meanwater= pokemon.loc[pokemon['Type 1']=='Water']['Total'].mean()\n",
    "meannotwater=pokemon.loc[pokemon['Type 1']!='Water']['Total'].mean()\n",
    "stdwater= pokemon.loc[pokemon['Type 1']=='Water']['Total'].std()\n",
    "stdnotwater=pokemon.loc[pokemon['Type 1']!='Water']['Total'].std()\n",
    "meanwater, stdwater, meannotwater, stdnotwater"
   ]
  },
  {
   "cell_type": "markdown",
   "metadata": {},
   "source": [
    "Perform a hypothesis test comparing the mean of total points for water Pokemon to all non-water Pokemon. Assume the variances are equal. "
   ]
  },
  {
   "cell_type": "code",
   "execution_count": 108,
   "metadata": {},
   "outputs": [
    {
     "data": {
      "text/plain": [
       "[318,\n",
       " 405,\n",
       " 525,\n",
       " 625,\n",
       " 309,\n",
       " 405,\n",
       " 534,\n",
       " 634,\n",
       " 634,\n",
       " 195,\n",
       " 205,\n",
       " 395,\n",
       " 195,\n",
       " 205,\n",
       " 395,\n",
       " 495,\n",
       " 251,\n",
       " 349,\n",
       " 479,\n",
       " 579,\n",
       " 253,\n",
       " 413,\n",
       " 262,\n",
       " 442,\n",
       " 288,\n",
       " 438,\n",
       " 320,\n",
       " 485,\n",
       " 300,\n",
       " 450,\n",
       " 275,\n",
       " 365,\n",
       " 505,\n",
       " 273,\n",
       " 365,\n",
       " 505,\n",
       " 323,\n",
       " 483,\n",
       " 299,\n",
       " 505,\n",
       " 270,\n",
       " 435,\n",
       " 245,\n",
       " 455,\n",
       " 320,\n",
       " 395,\n",
       " 490,\n",
       " 285,\n",
       " 405,\n",
       " 305,\n",
       " 450,\n",
       " 265,\n",
       " 405,\n",
       " 290,\n",
       " 440,\n",
       " 305,\n",
       " 455,\n",
       " 350,\n",
       " 555,\n",
       " 310,\n",
       " 400,\n",
       " 500,\n",
       " 590,\n",
       " 305,\n",
       " 405,\n",
       " 505,\n",
       " 300,\n",
       " 390,\n",
       " 490,\n",
       " 300,\n",
       " 390,\n",
       " 495,\n",
       " 410,\n",
       " 500,\n",
       " 325,\n",
       " 465,\n",
       " 352,\n",
       " 310,\n",
       " 460,\n",
       " 325,\n",
       " 500,\n",
       " 310,\n",
       " 405,\n",
       " 500,\n",
       " 600,\n",
       " 385,\n",
       " 328,\n",
       " 483,\n",
       " 330,\n",
       " 480,\n",
       " 325,\n",
       " 520,\n",
       " 320,\n",
       " 425,\n",
       " 455,\n",
       " 455,\n",
       " 385,\n",
       " 340,\n",
       " 490,\n",
       " 345,\n",
       " 485,\n",
       " 450,\n",
       " 435,\n",
       " 490,\n",
       " 590,\n",
       " 460,\n",
       " 500,\n",
       " 455,\n",
       " 490,\n",
       " 495,\n",
       " 500,\n",
       " 600,\n",
       " 490,\n",
       " 288,\n",
       " 325,\n",
       " 525,\n",
       " 525,\n",
       " 395,\n",
       " 355,\n",
       " 495,\n",
       " 355,\n",
       " 495,\n",
       " 515,\n",
       " 615,\n",
       " 540,\n",
       " 580,\n",
       " 580,\n",
       " 580,\n",
       " 300,\n",
       " 420,\n",
       " 600,\n",
       " 680,\n",
       " 780,\n",
       " 780,\n",
       " 600,\n",
       " 318,\n",
       " 405,\n",
       " 525,\n",
       " 309,\n",
       " 405,\n",
       " 534,\n",
       " 215,\n",
       " 415,\n",
       " 262,\n",
       " 442,\n",
       " 265,\n",
       " 390,\n",
       " 250,\n",
       " 390,\n",
       " 535,\n",
       " 205,\n",
       " 218,\n",
       " 210,\n",
       " 245,\n",
       " 405,\n",
       " 320,\n",
       " 470,\n",
       " 280,\n",
       " 365,\n",
       " 510,\n",
       " 610,\n",
       " 490,\n",
       " 410,\n",
       " 250,\n",
       " 340,\n",
       " 460,\n",
       " 360,\n",
       " 180,\n",
       " 425,\n",
       " 390,\n",
       " 525,\n",
       " 525,\n",
       " 405,\n",
       " 435,\n",
       " 336,\n",
       " 405,\n",
       " 455,\n",
       " 290,\n",
       " 465,\n",
       " 415,\n",
       " 430,\n",
       " 510,\n",
       " 610,\n",
       " 300,\n",
       " 450,\n",
       " 500,\n",
       " 600,\n",
       " 505,\n",
       " 500,\n",
       " 600,\n",
       " 430,\n",
       " 330,\n",
       " 500,\n",
       " 250,\n",
       " 410,\n",
       " 250,\n",
       " 450,\n",
       " 330,\n",
       " 465,\n",
       " 330,\n",
       " 500,\n",
       " 600,\n",
       " 330,\n",
       " 500,\n",
       " 515,\n",
       " 465,\n",
       " 250,\n",
       " 210,\n",
       " 455,\n",
       " 305,\n",
       " 360,\n",
       " 365,\n",
       " 490,\n",
       " 540,\n",
       " 580,\n",
       " 580,\n",
       " 300,\n",
       " 410,\n",
       " 600,\n",
       " 700,\n",
       " 680,\n",
       " 680,\n",
       " 600,\n",
       " 310,\n",
       " 405,\n",
       " 530,\n",
       " 630,\n",
       " 310,\n",
       " 405,\n",
       " 530,\n",
       " 630,\n",
       " 220,\n",
       " 420,\n",
       " 240,\n",
       " 420,\n",
       " 195,\n",
       " 205,\n",
       " 395,\n",
       " 205,\n",
       " 385,\n",
       " 220,\n",
       " 340,\n",
       " 480,\n",
       " 270,\n",
       " 430,\n",
       " 198,\n",
       " 278,\n",
       " 518,\n",
       " 618,\n",
       " 269,\n",
       " 414,\n",
       " 295,\n",
       " 460,\n",
       " 280,\n",
       " 440,\n",
       " 670,\n",
       " 266,\n",
       " 456,\n",
       " 236,\n",
       " 240,\n",
       " 360,\n",
       " 490,\n",
       " 237,\n",
       " 474,\n",
       " 190,\n",
       " 375,\n",
       " 260,\n",
       " 380,\n",
       " 380,\n",
       " 480,\n",
       " 380,\n",
       " 480,\n",
       " 330,\n",
       " 430,\n",
       " 530,\n",
       " 630,\n",
       " 280,\n",
       " 410,\n",
       " 510,\n",
       " 295,\n",
       " 475,\n",
       " 575,\n",
       " 405,\n",
       " 405,\n",
       " 400,\n",
       " 400,\n",
       " 400,\n",
       " 302,\n",
       " 467,\n",
       " 305,\n",
       " 460,\n",
       " 560,\n",
       " 470,\n",
       " 330,\n",
       " 470,\n",
       " 360,\n",
       " 290,\n",
       " 340,\n",
       " 520,\n",
       " 335,\n",
       " 475,\n",
       " 310,\n",
       " 490,\n",
       " 590,\n",
       " 458,\n",
       " 458,\n",
       " 440,\n",
       " 440,\n",
       " 300,\n",
       " 500,\n",
       " 355,\n",
       " 495,\n",
       " 355,\n",
       " 495,\n",
       " 420,\n",
       " 440,\n",
       " 295,\n",
       " 455,\n",
       " 555,\n",
       " 295,\n",
       " 455,\n",
       " 460,\n",
       " 425,\n",
       " 465,\n",
       " 565,\n",
       " 260,\n",
       " 300,\n",
       " 480,\n",
       " 580,\n",
       " 290,\n",
       " 410,\n",
       " 530,\n",
       " 300,\n",
       " 420,\n",
       " 600,\n",
       " 700,\n",
       " 300,\n",
       " 420,\n",
       " 600,\n",
       " 700,\n",
       " 580,\n",
       " 580,\n",
       " 580,\n",
       " 600,\n",
       " 700,\n",
       " 600,\n",
       " 700,\n",
       " 670,\n",
       " 770,\n",
       " 680,\n",
       " 780,\n",
       " 600,\n",
       " 600,\n",
       " 600,\n",
       " 600,\n",
       " 600,\n",
       " 318,\n",
       " 405,\n",
       " 525,\n",
       " 309,\n",
       " 405,\n",
       " 534,\n",
       " 245,\n",
       " 340,\n",
       " 485,\n",
       " 250,\n",
       " 410,\n",
       " 194,\n",
       " 384,\n",
       " 263,\n",
       " 363,\n",
       " 523,\n",
       " 280,\n",
       " 515,\n",
       " 350,\n",
       " 495,\n",
       " 350,\n",
       " 495,\n",
       " 224,\n",
       " 424,\n",
       " 424,\n",
       " 424,\n",
       " 424,\n",
       " 244,\n",
       " 474,\n",
       " 405,\n",
       " 275,\n",
       " 450,\n",
       " 482,\n",
       " 348,\n",
       " 498,\n",
       " 350,\n",
       " 480,\n",
       " 580,\n",
       " 495,\n",
       " 505,\n",
       " 310,\n",
       " 452,\n",
       " 285,\n",
       " 329,\n",
       " 479,\n",
       " 300,\n",
       " 500,\n",
       " 290,\n",
       " 310,\n",
       " 220,\n",
       " 411,\n",
       " 485,\n",
       " 300,\n",
       " 410,\n",
       " 600,\n",
       " 700,\n",
       " 390,\n",
       " 285,\n",
       " 525,\n",
       " 625,\n",
       " 330,\n",
       " 525,\n",
       " 330,\n",
       " 500,\n",
       " 300,\n",
       " 490,\n",
       " 454,\n",
       " 334,\n",
       " 494,\n",
       " 594,\n",
       " 510,\n",
       " 535,\n",
       " 515,\n",
       " 535,\n",
       " 535,\n",
       " 540,\n",
       " 540,\n",
       " 545,\n",
       " 515,\n",
       " 525,\n",
       " 525,\n",
       " 510,\n",
       " 530,\n",
       " 535,\n",
       " 518,\n",
       " 618,\n",
       " 525,\n",
       " 525,\n",
       " 480,\n",
       " 440,\n",
       " 520,\n",
       " 520,\n",
       " 520,\n",
       " 520,\n",
       " 520,\n",
       " 580,\n",
       " 580,\n",
       " 580,\n",
       " 680,\n",
       " 600,\n",
       " 670,\n",
       " 680,\n",
       " 680,\n",
       " 600,\n",
       " 600,\n",
       " 600,\n",
       " 600,\n",
       " 720,\n",
       " 600,\n",
       " 308,\n",
       " 413,\n",
       " 528,\n",
       " 308,\n",
       " 418,\n",
       " 528,\n",
       " 255,\n",
       " 420,\n",
       " 275,\n",
       " 370,\n",
       " 500,\n",
       " 281,\n",
       " 446,\n",
       " 316,\n",
       " 498,\n",
       " 316,\n",
       " 498,\n",
       " 292,\n",
       " 487,\n",
       " 264,\n",
       " 358,\n",
       " 488,\n",
       " 295,\n",
       " 497,\n",
       " 280,\n",
       " 390,\n",
       " 515,\n",
       " 313,\n",
       " 425,\n",
       " 328,\n",
       " 508,\n",
       " 445,\n",
       " 545,\n",
       " 305,\n",
       " 405,\n",
       " 505,\n",
       " 465,\n",
       " 465,\n",
       " 310,\n",
       " 380,\n",
       " 500,\n",
       " 260,\n",
       " 360,\n",
       " 485,\n",
       " 280,\n",
       " 480,\n",
       " 280,\n",
       " 480,\n",
       " 292,\n",
       " 351,\n",
       " 519,\n",
       " 315,\n",
       " 480,\n",
       " 540,\n",
       " 461,\n",
       " 325,\n",
       " 475,\n",
       " 348,\n",
       " 488,\n",
       " 490,\n",
       " 303,\n",
       " 483,\n",
       " 401,\n",
       " 567,\n",
       " 329,\n",
       " 474,\n",
       " 330,\n",
       " 510,\n",
       " 300,\n",
       " 470,\n",
       " 290,\n",
       " 390,\n",
       " 490,\n",
       " 290,\n",
       " 370,\n",
       " 490,\n",
       " 305,\n",
       " 395,\n",
       " 535,\n",
       " 335,\n",
       " 475,\n",
       " 428,\n",
       " 315,\n",
       " 495,\n",
       " 294,\n",
       " 464,\n",
       " 319,\n",
       " 472,\n",
       " 305,\n",
       " 489,\n",
       " 300,\n",
       " 440,\n",
       " 520,\n",
       " 275,\n",
       " 405,\n",
       " 515,\n",
       " 335,\n",
       " 485,\n",
       " 275,\n",
       " 370,\n",
       " 520,\n",
       " 320,\n",
       " 410,\n",
       " 540,\n",
       " 305,\n",
       " 485,\n",
       " 485,\n",
       " 305,\n",
       " 495,\n",
       " 471,\n",
       " 350,\n",
       " 510,\n",
       " 485,\n",
       " 303,\n",
       " 483,\n",
       " 340,\n",
       " 490,\n",
       " 490,\n",
       " 350,\n",
       " 510,\n",
       " 370,\n",
       " 510,\n",
       " 484,\n",
       " 484,\n",
       " 300,\n",
       " 420,\n",
       " 600,\n",
       " 360,\n",
       " 550,\n",
       " 580,\n",
       " 580,\n",
       " 580,\n",
       " 580,\n",
       " 580,\n",
       " 580,\n",
       " 580,\n",
       " 680,\n",
       " 680,\n",
       " 600,\n",
       " 600,\n",
       " 660,\n",
       " 700,\n",
       " 700,\n",
       " 600,\n",
       " 600,\n",
       " 600,\n",
       " 313,\n",
       " 405,\n",
       " 530,\n",
       " 307,\n",
       " 409,\n",
       " 534,\n",
       " 237,\n",
       " 423,\n",
       " 278,\n",
       " 382,\n",
       " 499,\n",
       " 200,\n",
       " 213,\n",
       " 411,\n",
       " 369,\n",
       " 507,\n",
       " 303,\n",
       " 371,\n",
       " 552,\n",
       " 350,\n",
       " 531,\n",
       " 348,\n",
       " 495,\n",
       " 472,\n",
       " 355,\n",
       " 466,\n",
       " 466,\n",
       " 325,\n",
       " 448,\n",
       " 520,\n",
       " 520,\n",
       " 341,\n",
       " 462,\n",
       " 341,\n",
       " 480,\n",
       " 288,\n",
       " 482,\n",
       " 306,\n",
       " 500,\n",
       " 320,\n",
       " 494,\n",
       " 289,\n",
       " 481,\n",
       " 362,\n",
       " 521,\n",
       " 362,\n",
       " 521,\n",
       " 525,\n",
       " 500,\n",
       " 431,\n",
       " 500,\n",
       " 300,\n",
       " 452,\n",
       " 600,\n",
       " 470,\n",
       " 309,\n",
       " 474,\n",
       " 335,\n",
       " 335,\n",
       " 335,\n",
       " 335,\n",
       " 494,\n",
       " 494,\n",
       " 494,\n",
       " 494,\n",
       " 304,\n",
       " 514,\n",
       " 245,\n",
       " 535,\n",
       " 680,\n",
       " 680,\n",
       " 600,\n",
       " 600,\n",
       " 700,\n",
       " 600,\n",
       " 680,\n",
       " 600]"
      ]
     },
     "execution_count": 108,
     "metadata": {},
     "output_type": "execute_result"
    }
   ],
   "source": [
    "# hypothesis 0 is that their total points are distributed in the same way.\n",
    "# so we need to use a ttest comparing the distribution of each of these series. \n",
    "# build the series \n",
    "water = list(pokemon.loc[pokemon['Type 1']=='Water']['Total'])\n",
    "dry= list(pokemon.loc[pokemon['Type 1']!='Water']['Total'])\n",
    "water, dry"
   ]
  },
  {
   "cell_type": "code",
   "execution_count": 111,
   "metadata": {},
   "outputs": [
    {
     "data": {
      "image/png": "[encoded data removed]",
      "text/plain": [
       "<Figure size 640x480 with 1 Axes>"
      ]
     },
     "metadata": {},
     "output_type": "display_data"
    }
   ],
   "source": [
    "# plot them \n",
    "plt.hist(water, alpha=.3, color='blue', bins=30, density=True);\n",
    "plt.hist(dry, alpha=.3, color='red', bins=30, density=True);"
   ]
  },
  {
   "cell_type": "code",
   "execution_count": 119,
   "metadata": {},
   "outputs": [
    {
     "data": {
      "text/plain": [
       "0.6587140317488793"
      ]
     },
     "execution_count": 119,
     "metadata": {},
     "output_type": "execute_result"
    }
   ],
   "source": [
    "# perform the test \n",
    "stats.ttest_ind(water,dry, equal_var=True).pvalue\n",
    "# equal variance is by default true in this function "
   ]
  },
  {
   "cell_type": "markdown",
   "metadata": {},
   "source": [
    "Write your conclusion below."
   ]
  },
  {
   "cell_type": "code",
   "execution_count": 10,
   "metadata": {},
   "outputs": [],
   "source": [
    "# Your conclusions here:\n",
    "# We can't, at this point, discard the hypothesis \n",
    "# that water pokemon points and non-water pokemon total points are distributed similarly."
   ]
  },
  {
   "cell_type": "markdown",
   "metadata": {},
   "source": [
    "# Challenge 2 - Matched Pairs Test\n",
    "\n",
    "In this challenge we will compare dependent samples of data describing our Pokemon. Our goal is to see whether there is a significant difference between each Pokemon's defense and attack scores. Our hypothesis is that the defense and attack scores are equal. In the cell below, import the `ttest_rel` function from `scipy.stats` and compare the two columns to see if there is a statistically significant difference between them."
   ]
  },
  {
   "cell_type": "code",
   "execution_count": 116,
   "metadata": {},
   "outputs": [
    {
     "data": {
      "text/plain": [
       "1.7140303479358558e-05"
      ]
     },
     "execution_count": 116,
     "metadata": {},
     "output_type": "execute_result"
    }
   ],
   "source": [
    "# Your code here:\n",
    "# Hypothesis that defense and attach scores are equal for each pokemon \n",
    "# actually it seems that the hypothesis is that every pokemon has the same attack and the same defense score \n",
    "# therefore the mean of all their attack-defense scores should be the same ? or the mean of each column should be the same ?\n",
    "# test for the null hypothesis that two related or repeated samples have identical average (expected) values.\n",
    "\n",
    "from scipy.stats import ttest_rel\n",
    "defense= pokemon['Defense']\n",
    "attack= pokemon['Attack']\n",
    "defense, attack\n",
    "\n",
    "ttest_rel(defense,attack).pvalue"
   ]
  },
  {
   "cell_type": "markdown",
   "metadata": {},
   "source": [
    "Describe the results of the test in the cell below."
   ]
  },
  {
   "cell_type": "code",
   "execution_count": 12,
   "metadata": {},
   "outputs": [],
   "source": [
    "# Your conclusions here:\n",
    "# If we consider the pvalue, it seems that attack and defense scores are not equal for each pokemon. \n",
    "# AND/OR it means that the mean of the 1st column is not the same as the mean of the 2nd column \n",
    "# couldn't we have done it with a function calculating whether Attack==Defense for each pokemon and then number of True ?\n",
    "# probably not because this would be a sample of a total population which is unknown ? "
   ]
  },
  {
   "cell_type": "markdown",
   "metadata": {},
   "source": [
    "We are also curious about whether therer is a significant difference between the mean of special defense and the mean of special attack. Perform the hypothesis test in the cell below. "
   ]
  },
  {
   "cell_type": "code",
   "execution_count": 121,
   "metadata": {},
   "outputs": [
    {
     "data": {
      "text/plain": [
       "0.3933685997548122"
      ]
     },
     "execution_count": 121,
     "metadata": {},
     "output_type": "execute_result"
    }
   ],
   "source": [
    "# Your code here:\n",
    "spdefense= pokemon['Sp. Def']\n",
    "spattack= pokemon['Sp. Atk']\n",
    "spdefense, spattack\n",
    "\n",
    "ttest_rel(spdefense, spattack).pvalue\n"
   ]
  },
  {
   "cell_type": "markdown",
   "metadata": {},
   "source": [
    "Describe the results of the test in the cell below."
   ]
  },
  {
   "cell_type": "code",
   "execution_count": 14,
   "metadata": {},
   "outputs": [],
   "source": [
    "# Your conclusions here:\n",
    "# It seems we can't reject the hypothesis that Special Defense and Special Attack means are the same. "
   ]
  },
  {
   "cell_type": "markdown",
   "metadata": {},
   "source": [
    "As you may recall, a two sample matched pairs test can also be expressed as a one sample test of the difference between the two dependent columns.\n",
    "\n",
    "Import the `ttest_1samp` function and perform a one sample t-test of the difference between defense and attack. Test the hypothesis that the difference between the means is zero. Confirm that the results of the test are the same."
   ]
  },
  {
   "cell_type": "code",
   "execution_count": 122,
   "metadata": {},
   "outputs": [],
   "source": [
    "# Your code here:\n",
    "from scipy.stats import ttest_1samp\n",
    "# https://docs.scipy.org/doc/scipy/reference/generated/scipy.stats.ttest_1samp.html"
   ]
  },
  {
   "cell_type": "code",
   "execution_count": 127,
   "metadata": {},
   "outputs": [
    {
     "data": {
      "text/plain": [
       "1.7140303479358558e-05"
      ]
     },
     "execution_count": 127,
     "metadata": {},
     "output_type": "execute_result"
    }
   ],
   "source": [
    "ttest_1samp(defense-attack, 0).pvalue\n",
    "# result is small (5 decimals after 0.) \n",
    "# interestingly, it is the same result whether we write defense-attack or attack-defense\n",
    "# So we reject the hypothesis, \n",
    "# the difference between the means of the two columns is not zero ?\n",
    "# really not sure about my conclusions here :) "
   ]
  },
  {
   "cell_type": "markdown",
   "metadata": {},
   "source": [
    "# Bonus Challenge - The Chi-Square Test\n",
    "\n",
    "The Chi-Square test is used to determine whether there is a statistically significant difference in frequencies. In other words, we are testing whether there is a relationship between categorical variables or rather when the variables are independent. This test is an alternative to Fisher's exact test and is used in scenarios where sample sizes are larger. However, with a large enough sample size, both tests produce similar results. Read more about the Chi Squared test [here](https://en.wikipedia.org/wiki/Chi-squared_test).\n",
    "\n",
    "In the cell below, create a contingency table using `pd.crosstab` comparing whether a Pokemon is legenadary or not and whether the Type 1 of a Pokemon is water or not."
   ]
  },
  {
   "cell_type": "code",
   "execution_count": 133,
   "metadata": {},
   "outputs": [
    {
     "data": {
      "text/html": [
       "<div>\n",
       "<style scoped>\n",
       "    .dataframe tbody tr th:only-of-type {\n",
       "        vertical-align: middle;\n",
       "    }\n",
       "\n",
       "    .dataframe tbody tr th {\n",
       "        vertical-align: top;\n",
       "    }\n",
       "\n",
       "    .dataframe thead th {\n",
       "        text-align: right;\n",
       "    }\n",
       "</style>\n",
       "<table border=\"1\" class=\"dataframe\">\n",
       "  <thead>\n",
       "    <tr style=\"text-align: right;\">\n",
       "      <th>Legendary</th>\n",
       "      <th>False</th>\n",
       "      <th>True</th>\n",
       "    </tr>\n",
       "    <tr>\n",
       "      <th>Type 1</th>\n",
       "      <th></th>\n",
       "      <th></th>\n",
       "    </tr>\n",
       "  </thead>\n",
       "  <tbody>\n",
       "    <tr>\n",
       "      <th>False</th>\n",
       "      <td>627</td>\n",
       "      <td>61</td>\n",
       "    </tr>\n",
       "    <tr>\n",
       "      <th>True</th>\n",
       "      <td>108</td>\n",
       "      <td>4</td>\n",
       "    </tr>\n",
       "  </tbody>\n",
       "</table>\n",
       "</div>"
      ],
      "text/plain": [
       "Legendary  False  True \n",
       "Type 1                 \n",
       "False        627     61\n",
       "True         108      4"
      ]
     },
     "execution_count": 133,
     "metadata": {},
     "output_type": "execute_result"
    }
   ],
   "source": [
    "# Your code here:\n",
    "pd.crosstab(pokemon['Type 1']=='Water', pokemon[\"Legendary\"])\n",
    "# Note : Type 1 False = not water, True = Water "
   ]
  },
  {
   "cell_type": "markdown",
   "metadata": {},
   "source": [
    "Perform a chi-squared test using the `chi2_contingency` function in `scipy.stats`. You can read the documentation of the function [here](https://docs.scipy.org/doc/scipy/reference/generated/scipy.stats.chi2_contingency.html)."
   ]
  },
  {
   "cell_type": "code",
   "execution_count": 134,
   "metadata": {},
   "outputs": [
    {
     "data": {
      "text/plain": [
       "array([[627,  61],\n",
       "       [108,   4]])"
      ]
     },
     "execution_count": 134,
     "metadata": {},
     "output_type": "execute_result"
    }
   ],
   "source": [
    "# Your code here:\n",
    "crosstab = stats.contingency.crosstab(pokemon['Type 1']=='Water', pokemon[\"Legendary\"])\n",
    "crosstab.count\n"
   ]
  },
  {
   "cell_type": "code",
   "execution_count": 135,
   "metadata": {},
   "outputs": [
    {
     "data": {
      "text/plain": [
       "0.08625467249550949"
      ]
     },
     "execution_count": 135,
     "metadata": {},
     "output_type": "execute_result"
    }
   ],
   "source": [
    "stats.chi2_contingency(crosstab.count).pvalue"
   ]
  },
  {
   "cell_type": "markdown",
   "metadata": {},
   "source": [
    "Based on a 95% confidence, should we reject the null hypothesis?"
   ]
  },
  {
   "cell_type": "code",
   "execution_count": 19,
   "metadata": {},
   "outputs": [],
   "source": [
    "# Your answer here:\n",
    "# if the chi-2 test measures whether the variables are independent, here we have a chi-2 > to 0.05 \n",
    "# so, we cannot, with a 95% confidence, reject the null hypothesis. "
   ]
  }
 ],
 "metadata": {
  "kernelspec": {
   "display_name": "Python 3",
   "language": "python",
   "name": "python3"
  },
  "language_info": {
   "codemirror_mode": {
    "name": "ipython",
    "version": 3
   },
   "file_extension": ".py",
   "mimetype": "text/x-python",
   "name": "python",
   "nbconvert_exporter": "python",
   "pygments_lexer": "ipython3",
   "version": "3.9.16"
  }
 },
 "nbformat": 4,
 "nbformat_minor": 2
}
